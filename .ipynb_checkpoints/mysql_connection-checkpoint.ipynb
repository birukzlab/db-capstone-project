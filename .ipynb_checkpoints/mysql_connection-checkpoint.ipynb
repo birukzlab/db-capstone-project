{
 "cells": [
  {
   "cell_type": "code",
   "execution_count": 2,
   "id": "42ec2270-7b20-4ceb-a434-0adcf7a2a251",
   "metadata": {},
   "outputs": [
    {
     "name": "stdout",
     "output_type": "stream",
     "text": [
      "Collecting mysql-connector-python\n",
      "  Using cached mysql_connector_python-9.1.0-cp311-cp311-macosx_13_0_arm64.whl.metadata (6.0 kB)\n",
      "Using cached mysql_connector_python-9.1.0-cp311-cp311-macosx_13_0_arm64.whl (15.1 MB)\n",
      "Installing collected packages: mysql-connector-python\n",
      "Successfully installed mysql-connector-python-9.1.0\n",
      "\n",
      "\u001b[1m[\u001b[0m\u001b[34;49mnotice\u001b[0m\u001b[1;39;49m]\u001b[0m\u001b[39;49m A new release of pip is available: \u001b[0m\u001b[31;49m24.0\u001b[0m\u001b[39;49m -> \u001b[0m\u001b[32;49m24.3.1\u001b[0m\n",
      "\u001b[1m[\u001b[0m\u001b[34;49mnotice\u001b[0m\u001b[1;39;49m]\u001b[0m\u001b[39;49m To update, run: \u001b[0m\u001b[32;49mpip install --upgrade pip\u001b[0m\n"
     ]
    }
   ],
   "source": [
    "!pip install mysql-connector-python"
   ]
  },
  {
   "cell_type": "code",
   "execution_count": 8,
   "id": "e460ed43-eee3-41c3-aad4-46e21d9bb90e",
   "metadata": {},
   "outputs": [
    {
     "name": "stdout",
     "output_type": "stream",
     "text": [
      "('Bookings',)\n",
      "('Customers',)\n",
      "('Menu',)\n",
      "('OrderDeliveryStatus',)\n",
      "('Orders',)\n",
      "('ordersview',)\n",
      "('Staff',)\n"
     ]
    }
   ],
   "source": [
    "import mysql.connector as connector\n",
    "\n",
    "connection = connector.connect (\n",
    "    user = \"BAlex\",\n",
    "    password = \"Ethio#2014\",\n",
    "    db = \"LittleLemonDM\"\n",
    ")\n",
    "\n",
    "showtables = \"SHOW tables\"\n",
    "\n",
    "cursor = connection.cursor()\n",
    "cursor.execute(showtables)\n",
    "\n",
    "for x in cursor:\n",
    "    print(x)"
   ]
  },
  {
   "cell_type": "code",
   "execution_count": null,
   "id": "92273589-06b9-4956-8ed7-97d1fd7f1506",
   "metadata": {},
   "outputs": [],
   "source": []
  },
  {
   "cell_type": "code",
   "execution_count": 10,
   "id": "aee02740-1a3f-4263-a25b-9f692274ddd3",
   "metadata": {},
   "outputs": [
    {
     "name": "stdout",
     "output_type": "stream",
     "text": [
      "('CustomerID', 'FullName', 'Email', 'ContactNumber')\n",
      "(1, 'John Doe', 'john.doe@example.com', '123-456-7890')\n",
      "(2, 'Jane Smith', 'jane.smith@example.com', '987-654-3210')\n",
      "(3, 'Emily Davis', 'emily.davis@example.com', '555-555-5555')\n"
     ]
    }
   ],
   "source": [
    "orders_query = \"\"\"SELECT * FROM Customers\"\"\" \n",
    "cursor.execute(orders_query)\n",
    "\n",
    "results = cursor.fetchall()\n",
    "\n",
    "cols = cursor.column_names\n",
    "\n",
    "print(cols)\n",
    "for result in results:\n",
    "    print(result)"
   ]
  },
  {
   "cell_type": "code",
   "execution_count": 11,
   "id": "1762fabe-de34-45cb-a8fd-59e28ca1c3b4",
   "metadata": {},
   "outputs": [
    {
     "name": "stdout",
     "output_type": "stream",
     "text": [
      "Customers with orders greater than $60:\n",
      "---------------------------------------\n",
      "('CustomerID', 'FullName', 'ContactNumber', 'TotalCost')\n",
      "(3, 'Emily Davis', '555-555-5555', Decimal('75'))\n"
     ]
    }
   ],
   "source": [
    "ordersgt60 = \"\"\"\n",
    "SELECT c.CustomerID, c.FullName, c.ContactNumber, o.TotalCost\n",
    "FROM Orders o\n",
    "INNER JOIN Customers c\n",
    "  ON o.CustomerID = c.CustomerID\n",
    "WHERE o.TotalCost > 60\n",
    "\"\"\"\n",
    "\n",
    "cursor.execute(ordersgt60)\n",
    "results = cursor.fetchall()\n",
    "\n",
    "cols = cursor.column_names\n",
    "\n",
    "# print the cols and results\n",
    "print(\"Customers with orders greater than $60:\")\n",
    "print(\"---------------------------------------\")\n",
    "print(cols)\n",
    "for result in results:\n",
    "    print(result)"
   ]
  },
  {
   "cell_type": "code",
   "execution_count": null,
   "id": "2ee49f03-bd82-41dc-acd6-8bac070dce6b",
   "metadata": {},
   "outputs": [],
   "source": []
  }
 ],
 "metadata": {
  "kernelspec": {
   "display_name": "Python 3 (ipykernel)",
   "language": "python",
   "name": "python3"
  },
  "language_info": {
   "codemirror_mode": {
    "name": "ipython",
    "version": 3
   },
   "file_extension": ".py",
   "mimetype": "text/x-python",
   "name": "python",
   "nbconvert_exporter": "python",
   "pygments_lexer": "ipython3",
   "version": "3.11.5"
  }
 },
 "nbformat": 4,
 "nbformat_minor": 5
}
